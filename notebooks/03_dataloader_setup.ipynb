{
 "cells": [
  {
   "cell_type": "markdown",
   "id": "104ffcb0",
   "metadata": {},
   "source": [
    "# **DataLoader**\n",
    "\n",
    "Ya que vimos el Procesamiento necesario para limpiar al maximo nuestro dataset, ahora veamos como podemos contruir un DataLoader en Pytorch.\n",
    "\n",
    "## **¿Qué es un DataLoader?**\n",
    "\n",
    "Un DataLoader lo usamos para cargar nuestros datos en batches, transformarlos y los mezcla para un entrenamiento eficiente."
   ]
  },
  {
   "cell_type": "code",
   "execution_count": 1,
   "id": "5280873c",
   "metadata": {},
   "outputs": [
    {
     "name": "stderr",
     "output_type": "stream",
     "text": [
      "c:\\Users\\KATANA\\Desktop\\git\\Personal\\nlp-proyecto13\\venv\\Lib\\site-packages\\tqdm\\auto.py:21: TqdmWarning: IProgress not found. Please update jupyter and ipywidgets. See https://ipywidgets.readthedocs.io/en/stable/user_install.html\n",
      "  from .autonotebook import tqdm as notebook_tqdm\n"
     ]
    },
    {
     "name": "stdout",
     "output_type": "stream",
     "text": [
      "0.17.0+cpu\n"
     ]
    }
   ],
   "source": [
    "# Las librerias que usaremos\n",
    "\n",
    "import torchtext\n",
    "print(torchtext.__version__)"
   ]
  },
  {
   "cell_type": "code",
   "execution_count": 14,
   "id": "2741e4a4",
   "metadata": {},
   "outputs": [],
   "source": [
    "from torch.utils.data import Dataset, DataLoader\n",
    "from torchtext.data.utils import get_tokenizer\n",
    "from torchtext.vocab import build_vocab_from_iterator\n",
    "from typing import Iterable, List\n",
    "from torch.nn.utils.rnn import pad_sequence\n",
    "from torch.utils.data import DataLoader\n",
    "from torchdata.datapipes.iter import IterableWrapper, Mapper\n",
    "import torchtext\n",
    "\n",
    "import torch\n",
    "import torch.nn as nn\n",
    "import torch.optim as optim\n",
    "\n",
    "import numpy as np\n",
    "from datasets import load_dataset\n",
    "import random\n",
    "\n",
    "from tokenizers import Tokenizer\n",
    "from tokenizers.models import BPE\n",
    "from tokenizers.trainers import BpeTrainer\n",
    "from tokenizers.pre_tokenizers import Whitespace "
   ]
  },
  {
   "cell_type": "markdown",
   "id": "b902cccb",
   "metadata": {},
   "source": [
    "## Conjunto de Datos\n",
    "\n",
    " Es una colección de muestra de datos, se usa para dar entrada al dataloader con ciertas transformaciones previas"
   ]
  },
  {
   "cell_type": "code",
   "execution_count": null,
   "id": "e27a8774",
   "metadata": {},
   "outputs": [],
   "source": [
    "# Cargamos los datos\n",
    "\n",
    "dataset = load_dataset(\"cnn_dailymail\", \"3.0.0\")\n",
    "\n",
    "# Creamos los iteradores por cada set de datos que cargamos\n",
    "\n",
    "train_iter = iter(dataset['train'])\n",
    "validation_iter = iter(dataset['validation'])\n",
    "test_data_iter = iter(dataset['test'])"
   ]
  },
  {
   "cell_type": "code",
   "execution_count": null,
   "id": "fd63d804",
   "metadata": {},
   "outputs": [
    {
     "name": "stdout",
     "output_type": "stream",
     "text": [
      "muestra 1\n",
      "Articulo: BAGHDAD, Iraq (CNN) -- The women are too afraid and ashamed to show their faces or have their real names used. They have been driven to sell their bodies to put food on the table for their children -- for as little as $8 a day. Suha, 37, is a mother of three. She says her husband thinks she is cleaning houses when she leaves home. \"People shouldn't criticize women, or talk badly about them,\" says 37-year-old Suha as she adjusts the light colored scarf she wears these days to avoid extremists who insist women cover themselves. \"They all say we have lost our way, but they never ask why we had to take this path.\" A mother of three, she wears light makeup, a gold pendant of Iraq around her neck, and an unexpected air of elegance about her. \"I don't have money to take my kid to the doctor. I have to do anything that I can to preserve my child, because I am a mother,\" she says, explaining why she prostitutes herself. Anger and frustration rise in her voice as she speaks. \"No matter what else I may be, no matter how off the path I may be, I am a mother!\"  Watch a woman describe turning to prostitution to \"save my child\" » . Her clasped hands clench and unclench nervously. Suha's husband thinks that she is cleaning houses when she goes away. So does Karima's family. \"At the start I was cleaning homes, but I wasn't making much. No matter how hard I worked it just wasn't enough,\" she says. Karima, clad in all black, adds, \"My husband died of lung cancer nine months ago and left me with nothing.\" She has five children, ages 8 to 17. Her eldest son could work, but she's too afraid for his life to let him go into the streets, preferring to sacrifice herself than risk her child. She was solicited the first time when she was cleaning an office. \"They took advantage of me,\" she says softly. \"At first I rejected it, but then I realized I have to do it.\" Both Suha and Karima have clients that call them a couple times a week. Other women resort to trips to the market to find potential clients. Or they flag down vehicles. Prostitution is a choice more and more Iraqi women are making just to survive. \"It's increasing,\" Suha says. \"I found this 'thing' through my friend, and I have another friend in the same predicament as mine. Because of the circumstance, she is forced to do such things.\" Violence, increased cost of living, and lack of any sort of government aid leave women like these with few other options, according to humanitarian workers. \"At this point there is a population of women who have to sell their bodies in order to keep their children alive,\" says Yanar Mohammed, head and founder of the Organization for Women's Freedom in Iraq. \"It's a taboo that no one is speaking about.\" She adds, \"There is a huge population of women who were the victims of war who had to sell their bodies, their souls and they lost it all. It crushes us to see them, but we have to work on it and that's why we started our team of women activists.\" Her team pounds the streets of Baghdad looking for these victims often too humiliated to come forward. \"Most of the women that we find at hospitals [who] have tried to commit suicide\" have been involved in prostitution, said Basma Rahim, a member of Mohammed's team. The team's aim is to compile information on specific cases and present it to Iraq's political parties -- to have them, as Mohammed puts it, \"come tell us what [they] are ... going to do about this.\" Rahim tells the heartbreaking story of one woman they found who lives in a room with three of her children: \"She has sex while her three children are in the room, but she makes them stand in separate corners.\" According to Rahim and Mohammed, most of the women they encounter say they are driven to prostitution by a desperate desire for survival in the dangerously violent and unforgiving circumstances in Iraq. \"They took this path but they are not pleased,\" Rahim says. Karima says when she sees her children with food on the table, she is able to convince herself that it's worth it. \"Everything is for the children. They are the beauty in life and, without them, we cannot live.\" But she says, \"I would never allow my daughter to do this. I would rather marry her off at 13 than have her go through this.\" Karima's last happy memory is of her late husband, when they were a family and able to shoulder the hardships of life in today's Iraq together. Suha says as a young girl she dreamed of being a doctor, with her mom boasting about her potential in that career. Life couldn't have taken her further from that dream. \"It's not like we were born into this, nor was it ever in my blood,\" she says. What she does for her family to survive now eats away at her. \"I lay on my pillow and my brain is spinning, and it all comes back to me as if I am watching a movie.\" E-mail to a friend . \n",
      "Resumen: Aid workers: Violence, increased cost of living drive women to prostitution .\n",
      "Group is working to raise awareness of the problem with Iraq's political leaders .\n",
      "Two Iraqi mothers tell CNN they turned to prostitution to help feed their children .\n",
      "\"Everything is for the children,\" one woman says .\n",
      "\n",
      "muestra 2\n",
      "Articulo: BOGOTA, Colombia (CNN) -- A key rebel commander and fugitive from a U.S. drug trafficking indictment was killed over the weekend in an air attack on a guerrilla encampment, the Colombian military said Monday. Alleged cocaine trafficker and FARC rebel Tomas Medina Caracas in an Interpol photo. Tomas Medina Caracas, known popularly as \"El Negro Acacio,\" was a member of the high command of the Fuerzas Armadas Revolucionarias de Colombia and, according to Colombian and U.S. officials, helped manage the group's extensive cocaine trafficking network. He had been in the cross-hairs of the U.S. Justice Department since 2002. He was charged with conspiracy to import cocaine into the United States and manufacturing and distributing cocaine within Colombia to fund the FARC's 42-year insurgency against the government. U.S. officials alleged Medina Caracas managed the rebel group's sales of cocaine to international drug traffickers, who in turn smuggled it into the United States. He was also indicted in the United States along with two other FARC commanders in November 2002 on charges of conspiring to kidnap two U.S. oil workers from neighboring Venezuela in 1997 and holding one of them for nine months until a $1 million ransom was paid. Officials said the army's Rapid Response Force, backed by elements of the Colombian Air Force, tracked Medina Caracas down at a FARC camp in the jungle in the south of the country. \"After a bombardment, the troops occupied the camp, and they've found 14 dead rebels so far, along with rifles, pistols, communications equipment and ... four GPS systems,\" Defense Minister Juan Manuel Santos said at a news conference. \"The death of 'El Negro Acacio' was confirmed by various sources, including members of FARC itself.\" Medina Caracas commanded FARC's 16th Front in the southern departments of Vichada and Guainia. Established in 1964 as the military wing of the Colombian Communist Party, FARC is Colombia's oldest, largest, most capable and best-equipped Marxist rebel group, according to the U.S. Department of State. E-mail to a friend . Journalist Fernando Ramos contributed to this report. \n",
      "Resumen: Tomas Medina Caracas was a fugitive from a U.S. drug trafficking indictment .\n",
      "\"El Negro Acacio\" allegedly helped manage extensive cocaine network .\n",
      "U.S. Justice Department indicted him in 2002 .\n",
      "Colombian military: He was killed in an attack on a guerrilla encampment .\n",
      "\n",
      "muestra 3\n",
      "Articulo: WASHINGTON (CNN) -- White House press secretary Tony Snow, who is undergoing treatment for cancer, will step down from his post September 14 and be replaced by deputy press secretary Dana Perino, the White House announced Friday. White House press secretary Tony Snow will step down from his post on September 14. President Bush told reporters Friday that he will \"sadly accept\" Snow's resignation. Flanked by Snow and Perino in the White House press room, the president spoke warmly of his departing press secretary. \"It's been a joy to watch him spar with you,\" Bush told reporters.  Watch the announcement about Snow leaving » . Bush said he was certain of two things in regard to Snow. \"He'll battle cancer and win,\" Bush said, \"and he'll be a solid contributor to society.\" Turning to Snow, the president then said: \"I love you, and I wish you all the best.\" Snow, speaking after Bush at the start of the daily White House news conference, said he was leaving to earn more money. He took a big pay cut, he said, when he left his previous jobs as anchor and political analyst for Fox News. According to The Washington Post, Snow makes $168,000 as the White House spokesman. His family took out a loan when he started the job, \"and that loan is now gone.\" \"This job has really been a dream for me, a blast. I've had an enormous amount of fun and satisfaction,\" Snow said. He said he would continue to speak out on issues, and would do \"some radio, some TV, but I don't anticipate full-time anchor duties.\" Snow said he's received great satisfaction from talking to people about his illness. Snow's cancer was diagnosed for the first time in February 2005. His colon was removed, and after six months of treatment, doctors said the cancer was in remission. Perino announced March 27 that Snow's cancer had recurred, and that doctors had removed a growth from his abdomen the day before. Sources told CNN two weeks ago that Snow was planning to leave his job, possibly as early as September. Bush tapped Snow to replace Scott McClellan in April 2006. Snow had been an anchor for \"Fox News Sunday\" and a political analyst for the Fox News Channel, which he joined in 1996. He also hosted \"The Tony Snow Show\" on Fox News Radio. On Thursday, Snow told CNN his health is improving, citing two medical tests this month that found the cancer has not spread. \"The tumors are stable -- they are not growing,\" Snow said of the results from an MRI and a CAT scan. \"And there are no new growths. The health is good.\" The press secretary, whose hair has turned gray during chemotherapy treatment, said his black hair is expected to grow back in about a month. \"I'm also putting on weight again,\" he said after returning from a 10-day vacation. \"I actually feel very good about\" the health situation. Snow said on Friday he was to see his oncologist, and they will decide on some minor forms of chemotherapy to start as maintenance treatment. E-mail to a friend . \n",
      "Resumen: President Bush says Tony Snow \"will battle cancer and win\"  Job of press secretary \"has been a dream for me,\" Snow says  Snow leaving on September 14, will be succeeded by Dana Perino .\n",
      "\n",
      "muestra 4\n",
      "Articulo: (CNN) -- Police and FBI agents are investigating the discovery of an empty rocket launcher tube on the front lawn of a Jersey City, New Jersey, home, FBI spokesman Sean Quinn said. Niranjan Desai discovered the 20-year-old AT4 anti-tank rocket launcher tube, a one-time-use device, lying on her lawn Friday morning, police said. The launcher has been turned over to U.S. Army officials at the 754th Ordnance Company, an explosive ordnance disposal unit, at Fort Monmouth, New Jersey, Army officials said. The launcher \"is no longer operable and not considered to be a hazard to public safety,\" police said, adding there was no indication the launcher had been fired recently. Army officials said they could not determine if the launcher had been fired, but indicated they should know once they find out where it came from. The nearest military base, Fort Dix, is more than 70 miles from Jersey City. The Joint Terrorism Task Force division of the FBI and Jersey City police are investigating the origin of the rocket launcher and the circumstance that led to its appearance on residential property. \"Al Qaeda doesn't leave a rocket launcher on the lawn of middle-aged ladies,\" said Paul Cruickshank of New York University Law School's Center on Law and Security. A neighbor, Joe Quinn, said the object lying on Desai's lawn looked military, was brown, had a handle and strap, and \"both ends were open, like you could shoot something with it.\" Quinn also said the device had a picture of a soldier on it and was 3 to 4 feet long. An Army official said the device is basically a shoulder-fired, direct-fire weapon used against ground targets -- a modern-day bazooka -- and it is not wire-guided. According to the Web site Globalsecurity.org, a loaded M136 AT4 anti-tank weapon has a 40-inch-long fiberglass-wrapped tube and weighs just 4 pounds. Its 84 millimeter shaped-charge missile can penetrate 14 inches of armor from a maximum of 985 feet. It is used once and discarded. E-mail to a friend . CNN's Carol Cratty, Dugald McConnell, and Mike Mount contributed to this report. \n",
      "Resumen: Empty anti-tank weapon turns up in front of New Jersey home .\n",
      "Device handed over to Army ordnance disposal unit .\n",
      "Weapon not capable of being reloaded, experts say .\n",
      "\n",
      "muestra 5\n",
      "Articulo: WASHINGTON (CNN) -- As he awaits a crucial progress report on Iraq, President Bush will try to put a twist on comparisons of the war to Vietnam by invoking the historical lessons of that conflict to argue against pulling out. President Bush pauses Tuesday during a news conference at the  North American Leaders summit in Canada. On Wednesday in Kansas City, Missouri, Bush will tell members of the Veterans of Foreign Wars that \"then, as now, people argued that the real problem was America's presence and that if we would just withdraw, the killing would end,\" according to speech excerpts released Tuesday by the White House. \"Three decades later, there is a legitimate debate about how we got into the Vietnam War and how we left,\" Bush will say. \"Whatever your position in that debate, one unmistakable legacy of Vietnam is that the price of America's withdrawal was paid by millions of innocent citizens, whose agonies would add to our vocabulary new terms like 'boat people,' 're-education camps' and 'killing fields,' \" the president will say. The president will also make the argument that withdrawing from Vietnam emboldened today's terrorists by compromising U.S. credibility, citing a quote from al Qaeda leader Osama bin Laden that the American people would rise against the Iraq war the same way they rose against the war in Vietnam, according to the excerpts. \"Here at home, some can argue our withdrawal from Vietnam carried no price to American credibility, but the terrorists see things differently,\" Bush will say. On Tuesday, Democratic Senate Majority Leader Harry Reid said, \"President Bush's attempt to compare the war in Iraq to past military conflicts in East Asia ignores the fundamental difference between the two. Our nation was misled by the Bush Administration in an effort to gain support for the invasion of Iraq under false pretenses, leading to one of the worst foreign policy blunders in our history. \"While the President continues to stay-the-course with his failed strategy in Iraq, paid for by the taxpayers, American lives are being lost and there is still no political solution within the Iraqi government. It is time to change direction in Iraq, and Congress will again work to do so in the fall.\" The White House is billing the speech, along with another address next week to the American Legion, as an effort to \"provide broader context\" for the debate over the upcoming Iraq progress report by Gen. David Petraeus, the top U.S. military commander, and Ryan Crocker, the U.S. ambassador in Baghdad. President Bush has frequently asked lawmakers -- and the American people -- to withhold judgment on his troop \"surge\" in Iraq until the report comes out in September.  Watch Bush criticize the Iraqi government » . It is being closely watched on Capitol Hill, particularly by Republicans nervous about the political fallout from an increasingly unpopular war. Earlier this month, Defense Secretary Robert Gates said he would wait for the report before deciding when a drawdown of the 160,000 U.S. troops in Iraq might begin. Bush's speeches Wednesday and next week are the latest in a series of attempts by the White House to try to reframe the debate over Iraq, as public support for the war continues to sag. A recent CNN/Opinion Research Corporation poll found that almost two-thirds of Americans -- 64 percent -- now oppose the Iraq war, and 72 percent say that even if Petraeus reports progress, it won't change their opinion. The poll also found a great deal of skepticism about the report; 53 percent said they do not trust Petraeus to give an accurate assessment of the situation in Iraq. In addition to his analogy to Vietnam, Bush in Wednesday's speech will invoke other historical comparisons from Asia, including the U.S. defeat and occupation of Japan after World War II and the Korean War in the 1950s, according to the excerpts. \"In the aftermath of Japan's surrender, many thought it naive to help the Japanese transform themselves into a democracy. Then, as now, the critics argued that some people were simply not fit for freedom,\" Bush will say. \"Today, in defiance of the critics, Japan ... stands as one of the world's great free societies.\" Speaking about the Korean War, Bush will note that at the time \"critics argued that the war was futile, that we never should have sent our troops in, or that America's intervention was divisive here at home.\" \"While it is true that the Korean War had its share of challenges, America never broke its word,\" Bush will say. \"Without America's intervention during the war, and our willingness to stick with the South Koreans after the war, millions of South Koreans would now be living under a brutal and repressive regime.\" E-mail to a friend . \n",
      "Resumen: President Bush to address the Veterans of Foreign Wars on Wednesday .\n",
      "Bush to say that withdrawing from Vietnam emboldened today's terrorists .\n",
      "Speech will be latest White House attempt to try to reframe the debate over Iraq .\n",
      "\n"
     ]
    }
   ],
   "source": [
    "for n in range(5):\n",
    "    \n",
    "    value = next(train_iter) #article, highlights\n",
    "    \n",
    "    print(f\"muestra {str(n+1)}\")\n",
    "    print(f'Articulo: {value[\"article\"]} \\nResumen: {value[\"highlights\"]}')\n",
    "    print()"
   ]
  },
  {
   "cell_type": "markdown",
   "id": "731e9112",
   "metadata": {},
   "source": [
    "## Configuración del tokenizador\n",
    "\n",
    "El tokenizador que usaremos sera el de huggin face que por detras usa el algoritmo BPE que usa el enfoque botton-up, es decir empieza desde unidades individuales del lenguaje como los caracteres en ingles, luego junta los pares mas frecuentes de manera iterativa hasta completar los tokens."
   ]
  },
  {
   "cell_type": "code",
   "execution_count": null,
   "id": "6728ffae",
   "metadata": {},
   "outputs": [],
   "source": []
  },
  {
   "cell_type": "code",
   "execution_count": null,
   "id": "9c122172",
   "metadata": {},
   "outputs": [],
   "source": []
  }
 ],
 "metadata": {
  "kernelspec": {
   "display_name": "venv",
   "language": "python",
   "name": "python3"
  },
  "language_info": {
   "codemirror_mode": {
    "name": "ipython",
    "version": 3
   },
   "file_extension": ".py",
   "mimetype": "text/x-python",
   "name": "python",
   "nbconvert_exporter": "python",
   "pygments_lexer": "ipython3",
   "version": "3.11.9"
  }
 },
 "nbformat": 4,
 "nbformat_minor": 5
}
