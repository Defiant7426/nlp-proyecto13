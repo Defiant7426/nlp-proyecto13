{
 "cells": [
  {
   "cell_type": "markdown",
   "id": "7f8f404e",
   "metadata": {},
   "source": [
    "# **Configuración del Entrenamiento Seq2Seq con Atención**\n",
    "\n",
    "\n",
    "En este cuaderno, configuraremos todos los componentes necesarios para entrenar nuestro modelo Seq2Seq con atención Bahdanau"
   ]
  },
  {
   "cell_type": "markdown",
   "id": "48a20546",
   "metadata": {},
   "source": [
    "## **Atencion**"
   ]
  },
  {
   "cell_type": "code",
   "execution_count": 2,
   "id": "15910b78",
   "metadata": {},
   "outputs": [],
   "source": [
    "import torch\n",
    "import torch.nn as nn\n",
    "import torch.nn.functional as F\n",
    "\n",
    "class Attention(nn.Module):\n",
    "    def __init__(self,enc_hid_dim, dec_hid_dim):\n",
    "        \"\"\"\n",
    "            Constructor de la capa de atencion:\n",
    "            Arg:  \n",
    "                enc_hid_dim (int): Dimension oculta del encoder (BiLSTM).\n",
    "                dec_hid_dim (int): Dimension oculta del decoder (LSTM).\n",
    "        \"\"\"\n",
    "        super().__init__()\n",
    "\n",
    "        # Capa lineal para transformar el estado oculto del encoder\n",
    "        self.attn_W_enc = nn.Linear(enc_hid_dim * 2, dec_hid_dim, bias=False)\n",
    "        # Capa lineal para transformar el estado oculto del decoder\n",
    "        self.attn_W_dec = nn.Linear(dec_hid_dim, dec_hid_dim, bias=False)\n",
    "        # Capa lineal para calcular el score final\n",
    "        self.attn_v = nn.Linear(dec_hid_dim, 1, bias=False)\n",
    "\n",
    "    def forward(self, decoder_hidden, encoder_outputs):\n",
    "        \"\"\"\n",
    "            Calcula los pesos de atencion y el vector de contexto\n",
    "            Arg:\n",
    "                decoder_hidden (Tensor): Estado oculto del decoder del paso anterior.\n",
    "                encoder_outputs (Tensor): Salidas de todos los pasos de tiempo del encoder.\n",
    "            \n",
    "            Returns:\n",
    "            context_vector (Tensor): Vector de contexto calculado.\n",
    "            attention_weights (Tensor): Pesos de atencion calculados.\n",
    "        \"\"\"\n",
    "        batch_size = encoder_outputs.shape[0]\n",
    "        src_len = encoder_outputs.shape[1]\n",
    "\n",
    "        decoder_hidden_repeated = decoder_hidden.unsqueeze(1).repeat(1, src_len, 1)\n",
    "\n",
    "        energy = torch.tanh(self.attn_W_enc(encoder_outputs) + self.attn_W_dec(decoder_hidden_repeated))\n",
    "\n",
    "        attention_scores = self.attn_v(energy).squeeze(2)\n",
    "\n",
    "        attention_weights = F.softmax(attention_scores, dim=1)\n",
    "\n",
    "        attention_weights_unsqueezed = attention_weights.unsqueeze(1)\n",
    "\n",
    "        context_vector = torch.bmm(attention_weights_unsqueezed, encoder_outputs)\n",
    "\n",
    "        context_vector = context_vector.squeeze(1)\n",
    "\n",
    "        return context_vector, attention_weights\n",
    "\n",
    "\n"
   ]
  },
  {
   "cell_type": "markdown",
   "id": "050eb870",
   "metadata": {},
   "source": [
    "## **model.py con atencion**"
   ]
  },
  {
   "cell_type": "code",
   "execution_count": 3,
   "id": "4740d977",
   "metadata": {},
   "outputs": [],
   "source": [
    "# En este archivo vamos vamos a definir el Encoder, Decoder y Seq2Seq\n",
    "\n",
    "import torch\n",
    "import torch.nn as nn\n",
    "import random\n",
    "\n",
    "class Encoder(nn.Module):\n",
    "    def __init__(self,input_dim, emb_dim, hidden_dim, n_layers, dropout, pad_idx):\n",
    "        \"\"\"\n",
    "            Constructor del Encoder.\n",
    "            Args: \n",
    "                input_dim(int): tamanio del vocabulario de entrada (fuente o sorce o src).\n",
    "                emb_dim (int): Dimension de los embeddings.\n",
    "                hidden_dim(int): dimension de la capa oculta del LSTM.\n",
    "                n_layers (int): Numero de capas del LSTM\n",
    "                dropout (float): Probabilidad de dropout\n",
    "                pad_idx (idx): Indice del token de padding en el vocabulario\n",
    "        \"\"\"\n",
    "        super().__init__() # Configuraciones internas de nn.Module en el Encoder\n",
    "        self.hidden_dim = hidden_dim\n",
    "        self.n_layers = n_layers\n",
    "        \n",
    "        self.embedding = nn.Embedding(input_dim, emb_dim, padding_idx=pad_idx)\n",
    "\n",
    "        self.rnn = nn.LSTM(emb_dim, hidden_dim, n_layers,\n",
    "                           dropout=dropout if n_layers>1 else 0,\n",
    "                           bidirectional=True, batch_first=True)\n",
    "        \n",
    "        self.fc_hidden = nn.Linear(hidden_dim * 2, hidden_dim)\n",
    "        self.fc_cell = nn.Linear(hidden_dim * 2, hidden_dim)\n",
    "\n",
    "        self.dropout = nn.Dropout(dropout)\n",
    "    \n",
    "    def forward(self, src):\n",
    "        \"\"\"\n",
    "            Procesa la secuencia fuente.\n",
    "            Arg:\n",
    "                src (Tensor): Secuencia de tokens de entrada [batch_size, src_len]\n",
    "            Return:\n",
    "\n",
    "        \"\"\"\n",
    "        embedded = self.dropout(self.embedding(src))\n",
    "\n",
    "        outputs, (hidden, cell) = self.rnn(embedded)\n",
    "\n",
    "        hidden = hidden.permute(1, 0, 2)\n",
    "        \n",
    "        hidden = hidden.reshape(hidden.size(0), self.n_layers, 2 * self.hidden_dim)\n",
    "\n",
    "        hidden = hidden.permute(1, 0, 2)\n",
    "\n",
    "        cell = cell.permute(1, 0, 2)\n",
    "        cell = cell.reshape(cell.size(0), self.n_layers, 2 * self.hidden_dim)\n",
    "        cell = cell.permute(1, 0, 2)\n",
    "\n",
    "        hidden = torch.tanh(self.fc_hidden(hidden))\n",
    "        cell = torch.tanh(self.fc_cell(cell))\n",
    "\n",
    "        return outputs, hidden, cell\n",
    "\n",
    "class Decoder(nn.Module):\n",
    "    def __init__(self, output_dim, emb_dim, enc_hid_dim, dec_hid_dim, n_layers, dropout, pad_idx, attention):\n",
    "        \"\"\"\n",
    "            Inicializador del Decoder.\n",
    "            Args:\n",
    "                output_dim(int): tamanio del vocabulario de salida.\n",
    "                emb_dim(int): dimension de los embeddings.\n",
    "                enc_hid_dim (int): Dimensión oculta del encoder\n",
    "                dec_hid_dim (int): dimension de la capa oculta del LSTM\n",
    "                n_layers(int): Numero de capas del LSTM\n",
    "                dropout (float): Probabilidad de dropout\n",
    "                pad_idx: Indice del token de padding en el vocabulario\n",
    "                attention (Attention): Instancia de la clase Attention.\n",
    "        \"\"\"\n",
    "        super().__init__() # Configuraciones internas del Module.nn en el Decoder\n",
    "\n",
    "        self.output_dim = output_dim\n",
    "        self.hidden_dim = dec_hid_dim \n",
    "        self.n_layers = n_layers\n",
    "        self.attention = attention\n",
    "\n",
    "        self.embedding = nn.Embedding(output_dim, emb_dim, padding_idx=pad_idx)\n",
    "\n",
    "        self.rnn = nn.LSTM(emb_dim + (enc_hid_dim * 2), dec_hid_dim, n_layers,\n",
    "                           dropout=dropout if n_layers > 1 else 0, batch_first=True)\n",
    "        \n",
    "        self.fc_out = nn.Linear(emb_dim + (enc_hid_dim * 2) + dec_hid_dim, output_dim)\n",
    "\n",
    "        self.dropout = nn.Dropout(dropout)\n",
    "\n",
    "    def forward(self, input, hidden, cell, encoder_outputs):\n",
    "        \"\"\"\n",
    "            Procesa un paso de la decodificación:\n",
    "            Arg:\n",
    "                input(Tensor): Token de entrada actual [batch size]\n",
    "                hidden(Tensor): Estado oculto del paso anterior [n_layers, batch_size, hidden_dim].\n",
    "                cell(Tensor): Estado de la celda en el paso anterior  [n_layers, batch_size, hidden_dim].\n",
    "            Return:\n",
    "        \"\"\"\n",
    "\n",
    "        input = input.unsqueeze(1) # input = [batch size, 1]\n",
    "        embedded = self.dropout(self.embedding(input)) # embedded = [batch size, 1, emb dim]\n",
    "\n",
    "        context, attention_weights = self.attention(hidden, encoder_outputs)\n",
    "\n",
    "        context = context.unsqueeze(1)\n",
    "\n",
    "        rnn_input = torch.cat((embedded, context), dim=2)\n",
    "\n",
    "        rnn_output, (hidden, cell) = self.rnn(rnn_input, (hidden, cell))\n",
    "\n",
    "        embedded = embedded.squeeze(1)     \n",
    "        context = context.squeeze(1)       \n",
    "        rnn_output = rnn_output.squeeze(1) \n",
    "\n",
    "        fc_input = torch.cat((embedded, context, rnn_output), dim=1)\n",
    "\n",
    "        prediction = self.fc_out(fc_input)\n",
    "\n",
    "        return prediction, hidden, cell\n",
    "\n",
    "class Seq2Seq(nn.Module):\n",
    "    def __init__(self, encoder, decoder, device):\n",
    "        \"\"\"\n",
    "            Args:\n",
    "                encoder(Encoder): instancia del encoder\n",
    "                decoder(Decoder): instancia del decoder\n",
    "                device(torch.device): cpu o cuda \n",
    "        \"\"\"\n",
    "        super().__init__() # Configuraciones internas de nn.Modules en Seq2Seq\n",
    "\n",
    "        self.encoder = encoder\n",
    "        self.decoder = decoder\n",
    "        self.device = device\n",
    "\n",
    "        if hasattr(encoder, 'n_layers') and hasattr(decoder, 'n_layers'):\n",
    "             assert encoder.n_layers == decoder.n_layers, \\\n",
    "                 \"El encoder y decoder deben de tener el mismo numero de capas\"\n",
    "\n",
    "    def forward(self, src, trg, teacher_forcing_ratio = 0.5):\n",
    "        \"\"\"\n",
    "            Procesa el par de secuencias fuente y objetivo.\n",
    "            Args:\n",
    "                src(Tensor): secuencia fuente [batch_size, src_len].\n",
    "                trg(Tensor): secuencia target [batch_size, trg_len].\n",
    "                teacher_forcing_ratio (float): Probabilidad de usar teacher forcing.\n",
    "            \n",
    "            Return:\n",
    "                output(Tensor): predicciones del decoder.\n",
    "        \"\"\"\n",
    "        batch_size = trg.shape[0]\n",
    "        trg_len = trg.shape[1]\n",
    "        trg_vocab_size = self.decoder.output_dim\n",
    "\n",
    "        outputs = torch.zeros(batch_size, trg_len, trg_vocab_size).to(self.device)\n",
    "\n",
    "        encoder_outputs, hidden, cell = self.encoder(src)\n",
    "\n",
    "        input = trg[:, 0]\n",
    "\n",
    "        for t in range(1, trg_len): # Predecimos a partir del segundo token\n",
    "\n",
    "            output, hidden, cell = self.decoder(input, hidden, cell, encoder_outputs)\n",
    "\n",
    "            # Guardamos las predicciones en el tensor de salida\n",
    "            outputs[:, t, :] = output \n",
    "\n",
    "            # Decidir si usar teacher forcing\n",
    "            teacher_force = random.random() < teacher_forcing_ratio\n",
    "\n",
    "            # Obtener el token predicho con mayor probabilidad\n",
    "            top1 = output.argmax(1) \n",
    "\n",
    "            # Si es teacher forcing, usar el token real como siguiente input\n",
    "            # Si no, usar el token predicho\n",
    "            input = trg[:, t] if teacher_force else top1\n",
    "\n",
    "\n",
    "        return outputs"
   ]
  },
  {
   "cell_type": "markdown",
   "id": "e4b8ab4b",
   "metadata": {},
   "source": [
    "## **data_loader.py**"
   ]
  },
  {
   "cell_type": "code",
   "execution_count": 4,
   "id": "ce61dd3f",
   "metadata": {},
   "outputs": [],
   "source": [
    "from torch.utils.data import Dataset\n",
    "from torch.nn.utils.rnn import pad_sequence\n",
    "import torch\n",
    "\n",
    "class SummarizationDataset(Dataset):\n",
    "    def __init__(self, dataframe, tokenizer, max_len_article, max_len_highlight, bos_token_id, eos_token_id):\n",
    "        self.dataframe = dataframe\n",
    "        self.tokenizer = tokenizer\n",
    "        self.max_len_article = max_len_article - 2  # Reservar espacio para BOS y EOS\n",
    "        self.max_len_highlight = max_len_highlight - 2\n",
    "        self.bos_token_id = bos_token_id\n",
    "        self.eos_token_id = eos_token_id\n",
    "\n",
    "    def __len__(self):\n",
    "        return len(self.dataframe)\n",
    "\n",
    "    def __getitem__(self, idx):\n",
    "        if torch.is_tensor(idx):\n",
    "            idx = idx.tolist()\n",
    "\n",
    "        article_text = self.dataframe.iloc[idx]['article']\n",
    "        highlight_text = self.dataframe.iloc[idx]['highlights']\n",
    "\n",
    "        # Tokenizar y truncar artículo\n",
    "        self.tokenizer.enable_truncation(max_length=self.max_len_article)\n",
    "        encoded_article = self.tokenizer.encode(article_text)\n",
    "        article_token_ids = encoded_article.ids\n",
    "\n",
    "        # Tokenizar y truncar resumen\n",
    "        self.tokenizer.enable_truncation(max_length=self.max_len_highlight)\n",
    "        encoded_highlight = self.tokenizer.encode(highlight_text)\n",
    "        highlight_token_ids = encoded_highlight.ids\n",
    "\n",
    "        # Añadir tokens BOS/EOS y convertir a tensor\n",
    "        article_tensor = torch.cat(\n",
    "            (torch.tensor([self.bos_token_id]),\n",
    "             torch.tensor(article_token_ids, dtype=torch.long),\n",
    "             torch.tensor([self.eos_token_id]))\n",
    "        )\n",
    "\n",
    "        highlight_tensor = torch.cat(\n",
    "            (torch.tensor([self.bos_token_id]),\n",
    "             torch.tensor(highlight_token_ids, dtype=torch.long),\n",
    "             torch.tensor([self.eos_token_id]))\n",
    "        )\n",
    "\n",
    "        return article_tensor, highlight_tensor\n",
    "\n",
    "def collate_fn(batch):\n",
    "    src_batch, tgt_batch = [], []\n",
    "    for src_sample, tgt_sample in batch:\n",
    "        src_batch.append(src_sample)\n",
    "        tgt_batch.append(tgt_sample)\n",
    "\n",
    "    src_batch_padded = pad_sequence(src_batch, batch_first=True, padding_value=1)  # 1 = PAD_IDX\n",
    "    tgt_batch_padded = pad_sequence(tgt_batch, batch_first=True, padding_value=1)\n",
    "\n",
    "    return src_batch_padded, tgt_batch_padded"
   ]
  },
  {
   "cell_type": "markdown",
   "id": "bd461a3f",
   "metadata": {},
   "source": [
    "## **Tokenizer**"
   ]
  },
  {
   "cell_type": "code",
   "execution_count": 5,
   "id": "6f65495b",
   "metadata": {},
   "outputs": [
    {
     "name": "stdout",
     "output_type": "stream",
     "text": [
      "Tokenizador cargado desde: cnn_dailymail_bpe_tokenizer\\tokenizer.json\n"
     ]
    }
   ],
   "source": [
    "import os\n",
    "from tokenizers import Tokenizer\n",
    "\n",
    "# Cargamos el tokenizer\n",
    "TOKENIZER_DIR = \"cnn_dailymail_bpe_tokenizer\" \n",
    "TOKENIZER_PATH = os.path.join(TOKENIZER_DIR, \"tokenizer.json\")\n",
    "\n",
    "\n",
    "tokenizer = Tokenizer.from_file(TOKENIZER_PATH)\n",
    "print(f\"Tokenizador cargado desde: {TOKENIZER_PATH}\")\n",
    "INPUT_DIM = tokenizer.get_vocab_size()\n",
    "OUTPUT_DIM = tokenizer.get_vocab_size() "
   ]
  },
  {
   "cell_type": "code",
   "execution_count": 6,
   "id": "4904dbb9",
   "metadata": {},
   "outputs": [],
   "source": [
    "PAD_IDX = tokenizer.token_to_id(\"<pad>\")\n",
    "BOS_IDX = tokenizer.token_to_id(\"<bos>\")\n",
    "EOS_IDX = tokenizer.token_to_id(\"<eos>\")\n",
    "UNK_IDX = tokenizer.token_to_id(\"<unk>\")"
   ]
  },
  {
   "cell_type": "code",
   "execution_count": 7,
   "id": "2fdd89db",
   "metadata": {},
   "outputs": [
    {
     "name": "stdout",
     "output_type": "stream",
     "text": [
      "Tamaño del Vocabulario (INPUT_DIM/OUTPUT_DIM): 30000\n",
      "Índice de OOV: 0\n",
      "Índice de Padding: 1\n",
      "Índice de Begin of seq.: 2\n",
      "Índice de End of seq.: 3\n"
     ]
    }
   ],
   "source": [
    "print(f\"Tamaño del Vocabulario (INPUT_DIM/OUTPUT_DIM): {INPUT_DIM}\")\n",
    "print(f\"Índice de OOV: {UNK_IDX}\")\n",
    "print(f\"Índice de Padding: {PAD_IDX}\")\n",
    "print(f\"Índice de Begin of seq.: {BOS_IDX}\")\n",
    "print(f\"Índice de End of seq.: {EOS_IDX}\")\n"
   ]
  },
  {
   "cell_type": "markdown",
   "id": "33a099ad",
   "metadata": {},
   "source": [
    "## **Hiperparametros**"
   ]
  },
  {
   "cell_type": "code",
   "execution_count": 8,
   "id": "ae141a14",
   "metadata": {},
   "outputs": [
    {
     "name": "stdout",
     "output_type": "stream",
     "text": [
      "Device: cpu\n",
      "Batch Size: 32\n",
      "Learning Rate: 0.0005\n"
     ]
    }
   ],
   "source": [
    "import numpy as np\n",
    "\n",
    "ENC_EMB_DIM = 256\n",
    "DEC_EMB_DIM = 256\n",
    "HID_DIM = 512      \n",
    "ENC_HID_DIM = HID_DIM \n",
    "DEC_HID_DIM = HID_DIM\n",
    "N_LAYERS = 2\n",
    "ENC_DROPOUT = 0.3\n",
    "DEC_DROPOUT = 0.3\n",
    "\n",
    "LEARNING_RATE = 0.0005 # tasa de aprendizaje\n",
    "BATCH_SIZE = 32       \n",
    "N_EPOCHS = 10         # Numero de epocas\n",
    "CLIP = 1              # Gradient clipping \n",
    "\n",
    "DEVICE = torch.device('cuda' if torch.cuda.is_available() else 'cpu')\n",
    "SEED = 1234\n",
    "random.seed(SEED)\n",
    "np.random.seed(SEED)\n",
    "torch.manual_seed(SEED)\n",
    "torch.cuda.manual_seed(SEED)\n",
    "torch.backends.cudnn.deterministic = True \n",
    "\n",
    "MAX_TOKENS_ARTICLE = 1200 \n",
    "MAX_TOKENS_HIGHLIGHT = 130  \n",
    "\n",
    "\n",
    "print(f\"Device: {DEVICE}\")\n",
    "print(f\"Batch Size: {BATCH_SIZE}\")\n",
    "print(f\"Learning Rate: {LEARNING_RATE}\")"
   ]
  },
  {
   "cell_type": "markdown",
   "id": "66d8cf6e",
   "metadata": {},
   "source": [
    "## Instanciar Hiperparametros del modelo"
   ]
  },
  {
   "cell_type": "code",
   "execution_count": 10,
   "id": "faeee3a3",
   "metadata": {},
   "outputs": [
    {
     "name": "stdout",
     "output_type": "stream",
     "text": [
      "DataFrame de entrenamiento filtrado cargado.\n",
      "DataFrame de validacion filtrado cargado.\n"
     ]
    }
   ],
   "source": [
    "import pandas as pd\n",
    "\n",
    "train_df_filtered = pd.read_parquet(\"data/train_filtered.parquet\") \n",
    "print(\"DataFrame de entrenamiento filtrado cargado.\")\n",
    "\n",
    "validation_df_filtered = pd.read_parquet(\"data/validation_filtered.parquet\") \n",
    "print(\"DataFrame de validacion filtrado cargado.\")"
   ]
  },
  {
   "cell_type": "code",
   "execution_count": 12,
   "id": "fed62d76",
   "metadata": {},
   "outputs": [
    {
     "name": "stdout",
     "output_type": "stream",
     "text": [
      "Datasets y DataLoaders creados.\n",
      "  Tamaño Dataset Entrenamiento: 286766\n",
      "  Tamaño Dataset Validación: 13353\n",
      "  Número batches Entrenamiento: 8962\n",
      "  Número batches Validación: 418\n",
      "  Shape src_batch: torch.Size([32, 1200])\n",
      "  Shape trg_batch: torch.Size([32, 130])\n"
     ]
    }
   ],
   "source": [
    "from torch.utils.data import DataLoader\n",
    "\n",
    "train_dataset = SummarizationDataset(\n",
    "    train_df_filtered, tokenizer,\n",
    "    MAX_TOKENS_ARTICLE, MAX_TOKENS_HIGHLIGHT,\n",
    "    BOS_IDX, EOS_IDX\n",
    ")\n",
    "val_dataset = SummarizationDataset(\n",
    "    validation_df_filtered, tokenizer,\n",
    "    MAX_TOKENS_ARTICLE, MAX_TOKENS_HIGHLIGHT,\n",
    "    BOS_IDX, EOS_IDX\n",
    ")\n",
    "\n",
    "train_dataloader = DataLoader(train_dataset, batch_size=BATCH_SIZE, shuffle=True, collate_fn=collate_fn)\n",
    "val_dataloader = DataLoader(val_dataset, batch_size=BATCH_SIZE, shuffle=False, collate_fn=collate_fn)\n",
    "\n",
    "print(f\"Datasets y DataLoaders creados.\")\n",
    "print(f\"  Tamaño Dataset Entrenamiento: {len(train_dataset)}\")\n",
    "print(f\"  Tamaño Dataset Validación: {len(val_dataset)}\")\n",
    "print(f\"  Número batches Entrenamiento: {len(train_dataloader)}\")\n",
    "print(f\"  Número batches Validación: {len(val_dataloader)}\")\n",
    "\n",
    "src_batch_test, trg_batch_test = next(iter(train_dataloader))\n",
    "print(f\"  Shape src_batch: {src_batch_test.shape}\")\n",
    "print(f\"  Shape trg_batch: {trg_batch_test.shape}\")"
   ]
  },
  {
   "cell_type": "markdown",
   "id": "36e9291c",
   "metadata": {},
   "source": [
    "## **Modelo con atencion**\n"
   ]
  },
  {
   "cell_type": "code",
   "execution_count": 13,
   "id": "becccca2",
   "metadata": {},
   "outputs": [
    {
     "name": "stdout",
     "output_type": "stream",
     "text": [
      "Modelo Seq2Seq con Atención instanciado y movido a device.\n",
      "El modelo tiene 86,215,472 parámetros entrenables.\n"
     ]
    }
   ],
   "source": [
    "attn = Attention(ENC_HID_DIM, DEC_HID_DIM)\n",
    "enc = Encoder(INPUT_DIM, ENC_EMB_DIM, ENC_HID_DIM, N_LAYERS, ENC_DROPOUT, PAD_IDX)\n",
    "\n",
    "dec = Decoder(OUTPUT_DIM, DEC_EMB_DIM, ENC_HID_DIM, DEC_HID_DIM, N_LAYERS, DEC_DROPOUT, PAD_IDX, attn)\n",
    "model = Seq2Seq(enc, dec, DEVICE).to(DEVICE)\n",
    "print(\"Modelo Seq2Seq con Atención instanciado y movido a device.\")\n",
    "\n",
    "def count_parameters(model):\n",
    "    return sum(p.numel() for p in model.parameters() if p.requires_grad)\n",
    "print(f'El modelo tiene {count_parameters(model):,} parámetros entrenables.')\n"
   ]
  },
  {
   "cell_type": "markdown",
   "id": "8ca7d26e",
   "metadata": {},
   "source": [
    "## Iniciar Pesos"
   ]
  },
  {
   "cell_type": "code",
   "execution_count": 14,
   "id": "7fc8ff37",
   "metadata": {},
   "outputs": [
    {
     "data": {
      "text/plain": [
       "Seq2Seq(\n",
       "  (encoder): Encoder(\n",
       "    (embedding): Embedding(30000, 256, padding_idx=1)\n",
       "    (rnn): LSTM(256, 512, num_layers=2, batch_first=True, dropout=0.3, bidirectional=True)\n",
       "    (fc_hidden): Linear(in_features=1024, out_features=512, bias=True)\n",
       "    (fc_cell): Linear(in_features=1024, out_features=512, bias=True)\n",
       "    (dropout): Dropout(p=0.3, inplace=False)\n",
       "  )\n",
       "  (decoder): Decoder(\n",
       "    (attention): Attention(\n",
       "      (attn_W_enc): Linear(in_features=1024, out_features=512, bias=False)\n",
       "      (attn_W_dec): Linear(in_features=512, out_features=512, bias=False)\n",
       "      (attn_v): Linear(in_features=512, out_features=1, bias=False)\n",
       "    )\n",
       "    (embedding): Embedding(30000, 256, padding_idx=1)\n",
       "    (rnn): LSTM(1280, 512, num_layers=2, batch_first=True, dropout=0.3)\n",
       "    (fc_out): Linear(in_features=1792, out_features=30000, bias=True)\n",
       "    (dropout): Dropout(p=0.3, inplace=False)\n",
       "  )\n",
       ")"
      ]
     },
     "execution_count": 14,
     "metadata": {},
     "output_type": "execute_result"
    }
   ],
   "source": [
    "def init_weights(m):\n",
    "    for name, param in m.named_parameters():\n",
    "        if 'weight' in name:\n",
    "            nn.init.normal_(param.data, mean=0, std=0.01)\n",
    "        else:\n",
    "            nn.init.constant_(param.data, 0)\n",
    "\n",
    "model.apply(init_weights)"
   ]
  },
  {
   "cell_type": "markdown",
   "id": "84dfae9e",
   "metadata": {},
   "source": [
    "## Definimos el Optimizador"
   ]
  },
  {
   "cell_type": "code",
   "execution_count": 15,
   "id": "24751860",
   "metadata": {},
   "outputs": [
    {
     "name": "stderr",
     "output_type": "stream",
     "text": [
      "c:\\Users\\KATANA\\Desktop\\git\\Personal\\nlp-proyecto13\\venv\\Lib\\site-packages\\tqdm\\auto.py:21: TqdmWarning: IProgress not found. Please update jupyter and ipywidgets. See https://ipywidgets.readthedocs.io/en/stable/user_install.html\n",
      "  from .autonotebook import tqdm as notebook_tqdm\n"
     ]
    },
    {
     "name": "stdout",
     "output_type": "stream",
     "text": [
      "Optimizador Adam definido con LR=0.0005\n"
     ]
    }
   ],
   "source": [
    "import torch.optim as optim\n",
    "\n",
    "optimizer = optim.Adam(model.parameters(), lr=LEARNING_RATE)\n",
    "print(f\"Optimizador Adam definido con LR={LEARNING_RATE}\")"
   ]
  },
  {
   "cell_type": "markdown",
   "id": "5d1e5c41",
   "metadata": {},
   "source": [
    "## **Definimos la Función de Pérdida**"
   ]
  },
  {
   "cell_type": "code",
   "execution_count": 16,
   "id": "02682453",
   "metadata": {},
   "outputs": [
    {
     "name": "stdout",
     "output_type": "stream",
     "text": [
      "Función de pérdida CrossEntropyLoss definida, ignorando índice 1.\n"
     ]
    }
   ],
   "source": [
    "criterion = nn.CrossEntropyLoss(ignore_index=PAD_IDX)\n",
    "print(f\"Función de pérdida CrossEntropyLoss definida, ignorando índice {PAD_IDX}.\")"
   ]
  },
  {
   "cell_type": "markdown",
   "id": "ef5a18e9",
   "metadata": {},
   "source": [
    "## Funciones Auxiliares"
   ]
  },
  {
   "cell_type": "code",
   "execution_count": 17,
   "id": "19bf3a7b",
   "metadata": {},
   "outputs": [],
   "source": [
    "def epoch_time(start_time, end_time):\n",
    "    elapsed_time = end_time - start_time\n",
    "    elapsed_mins = int(elapsed_time / 60)\n",
    "    elapsed_secs = int(elapsed_time - (elapsed_mins * 60))\n",
    "    return elapsed_mins, elapsed_secs"
   ]
  },
  {
   "cell_type": "markdown",
   "id": "8510d885",
   "metadata": {},
   "source": []
  }
 ],
 "metadata": {
  "kernelspec": {
   "display_name": "venv",
   "language": "python",
   "name": "python3"
  },
  "language_info": {
   "codemirror_mode": {
    "name": "ipython",
    "version": 3
   },
   "file_extension": ".py",
   "mimetype": "text/x-python",
   "name": "python",
   "nbconvert_exporter": "python",
   "pygments_lexer": "ipython3",
   "version": "3.11.9"
  }
 },
 "nbformat": 4,
 "nbformat_minor": 5
}
